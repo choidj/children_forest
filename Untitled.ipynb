{
 "cells": [
  {
   "attachments": {},
   "cell_type": "markdown",
   "id": "federal-hundred",
   "metadata": {},
   "source": [
    "# Children in Forest🎄\n",
    "--------------\n",
    "## Project Purpose\n",
    "> 유아용 게임 앱 개발을 목적으로 하고있다. 주 소비자층이 유아들이므로 정서에 맞게 아기자기하며 동화적인 분위기를 이끌어냈으며 안드로이드 플랫폼으로 제작하였다. 하지만 유아의 스마트폰의 잦은 사용으로 인한 부정적인 시각도 일부 존재하는데, 이로 인해 언어, 정서, 사회성 발달 장애를 불러온다는 것이다. 우리는 이러한 문제점을 인지하였으며 단순한 오락 용도가 아닌 유아의 올바른 성장을 위한 상식, 언어교육 등을 게임과 접목시켜 본 앱을 통해 아이가 언어적 정신적 성장을 할 수 있게 하였다.\n",
    "-----------\n",
    "## Project Role\n",
    "> Developement : choidj, devYoong, kimmhyeon, RyuSion1124\n",
    ">\n",
    "> Director : jinkabpark\n",
    ">\n",
    "> Design : RyuSion1124\n",
    "-------------\n",
    "## Project Preview\n",
    "> Intro 설명.\n",
    "> \n",
    "> Main\n",
    "> \n",
    "> Stage select\n",
    "> \n",
    "> Game stages\n",
    "> \n",
    "> End scene\n",
    "-------------\n",
    "## Project Environment\n",
    "> 유니티 사진\n",
    "> > C#\n",
    ">\n",
    "> 구글 TTS API 사진\n"
   ]
  },
  {
   "cell_type": "code",
   "execution_count": null,
   "id": "manufactured-witness",
   "metadata": {},
   "outputs": [],
   "source": []
  }
 ],
 "metadata": {
  "kernelspec": {
   "display_name": "Python 3",
   "language": "python",
   "name": "python3"
  },
  "language_info": {
   "codemirror_mode": {
    "name": "ipython",
    "version": 3
   },
   "file_extension": ".py",
   "mimetype": "text/x-python",
   "name": "python",
   "nbconvert_exporter": "python",
   "pygments_lexer": "ipython3",
   "version": "3.8.6"
  },
  "toc": {
   "base_numbering": 1,
   "nav_menu": {},
   "number_sections": true,
   "sideBar": true,
   "skip_h1_title": false,
   "title_cell": "Table of Contents",
   "title_sidebar": "Contents",
   "toc_cell": false,
   "toc_position": {},
   "toc_section_display": true,
   "toc_window_display": false
  }
 },
 "nbformat": 4,
 "nbformat_minor": 5
}
